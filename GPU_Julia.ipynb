{
 "cells": [
  {
   "cell_type": "code",
   "execution_count": null,
   "metadata": {},
   "outputs": [],
   "source": [
    "using LinearAlgebra\n",
    "using CUDAnative\n",
    "using CuArrays\n",
    "using BenchmarkTools\n",
    "using Images\n",
    "using CUDAdrv"
   ]
  },
  {
   "cell_type": "markdown",
   "metadata": {},
   "source": [
    "## Terminology\n",
    "\n",
    "1. A thread is an \"independent\" execution of a kernel.\n",
    "2. Threads are grouped into 3-dimensional \"blocks\".\n",
    "3. Blocks are grouped into 3-dimensional \"grids\".\n",
    "4. Blocks are independently scheduled and executed."
   ]
  },
  {
   "cell_type": "code",
   "execution_count": 9,
   "metadata": {},
   "outputs": [
    {
     "name": "stdout",
     "output_type": "stream",
     "text": [
      "Thread index: (1, 1, 1)\n",
      "Thread index: (1, 2, 1)\n",
      "Thread index: (1, 1, 2)\n",
      "Thread index: (1, 2, 2)\n",
      "Thread index: (1, 1, 3)\n",
      "Thread index: (1, 2, 3)\n",
      "Thread index: (1, 1, 1)\n",
      "Thread index: (1, 2, 1)\n",
      "Thread index: (1, 1, 2)\n",
      "Thread index: (1, 2, 2)\n",
      "Thread index: (1, 1, 3)\n",
      "Thread index: (1, 2, 3)\n",
      "Thread index: (1, 1, 1)\n",
      "Thread index: (1, 2, 1)\n",
      "Thread index: (1, 1, 2)\n",
      "Thread index: (1, 2, 2)\n",
      "Thread index: (1, 1, 3)\n",
      "Thread index: (1, 2, 3)\n",
      "Thread index: (1, 1, 1)\n",
      "Thread index: (1, 2, 1)\n",
      "Thread index: (1, 1, 2)\n",
      "Thread index: (1, 2, 2)\n",
      "Thread index: (1, 1, 3)\n",
      "Thread index: (1, 2, 3)\n",
      "Thread index: (1, 1, 1)\n",
      "Thread index: (1, 2, 1)\n",
      "Thread index: (1, 1, 2)\n",
      "Thread index: (1, 2, 2)\n",
      "Thread index: (1, 1, 3)\n",
      "Thread index: (1, 2, 3)\n",
      "Thread index: (1, 1, 1)\n",
      "Thread index: (1, 2, 1)\n",
      "Thread index: (1, 1, 2)\n",
      "Thread index: (1, 2, 2)\n",
      "Thread index: (1, 1, 3)\n",
      "Thread index: (1, 2, 3)\n",
      "Thread index: (1, 1, 1)\n",
      "Thread index: (1, 2, 1)\n",
      "Thread index: (1, 1, 2)\n",
      "Thread index: (1, 2, 2)\n",
      "Thread index: (1, 1, 3)\n",
      "Thread index: (1, 2, 3)\n",
      "Thread index: (1, 1, 1)\n",
      "Thread index: (1, 2, 1)\n",
      "Thread index: (1, 1, 2)\n",
      "Thread index: (1, 2, 2)\n",
      "Thread index: (1, 1, 3)\n",
      "Thread index: (1, 2, 3)\n",
      "Thread index: (1, 1, 1)\n",
      "Thread index: (1, 2, 1)\n",
      "Thread index: (1, 1, 2)\n",
      "Thread index: (1, 2, 2)\n",
      "Thread index: (1, 1, 3)\n",
      "Thread index: (1, 2, 3)\n",
      "Thread index: (1, 1, 1)\n",
      "Thread index: (1, 2, 1)\n",
      "Thread index: (1, 1, 2)\n",
      "Thread index: (1, 2, 2)\n",
      "Thread index: (1, 1, 3)\n",
      "Thread index: (1, 2, 3)\n",
      "Thread index: (1, 1, 1)\n",
      "Thread index: (1, 2, 1)\n",
      "Thread index: (1, 1, 2)\n",
      "Thread index: (1, 2, 2)\n",
      "Thread index: (1, 1, 3)\n",
      "Thread index: (1, 2, 3)\n",
      "Thread index: (1, 1, 1)\n",
      "Thread index: (1, 2, 1)\n",
      "Thread index: (1, 1, 2)\n",
      "Thread index: (1, 2, 2)\n",
      "Thread index: (1, 1, 3)\n",
      "Thread index: (1, 2, 3)\n",
      "Block index: (1, 3, 2)\n",
      "Block index: (1, 3, 2)\n",
      "Block index: (1, 3, 2)\n",
      "Block index: (1, 3, 2)\n",
      "Block index: (1, 3, 2)\n",
      "Block index: (1, 3, 2)\n",
      "Block index: (2, 3, 2)\n",
      "Block index: (2, 3, 2)\n",
      "Block index: (2, 3, 2)\n",
      "Block index: (2, 3, 2)\n",
      "Block index: (2, 3, 2)\n",
      "Block index: (2, 3, 2)\n",
      "Block index: (1, 1, 2)\n",
      "Block index: (1, 1, 2)\n",
      "Block index: (1, 1, 2)\n",
      "Block index: (1, 1, 2)\n",
      "Block index: (1, 1, 2)\n",
      "Block index: (1, 1, 2)\n",
      "Block index: (1, 1, 1)\n",
      "Block index: (1, 1, 1)\n",
      "Block index: (1, 1, 1)\n",
      "Block index: (1, 1, 1)\n",
      "Block index: (1, 1, 1)\n",
      "Block index: (1, 1, 1)\n",
      "Block index: (2, 2, 2)\n",
      "Block index: (2, 2, 2)\n",
      "Block index: (2, 2, 2)\n",
      "Block index: (2, 2, 2)\n",
      "Block index: (2, 2, 2)\n",
      "Block index: (2, 2, 2)\n",
      "Block index: (2, 3, 1)\n",
      "Block index: (2, 3, 1)\n",
      "Block index: (2, 3, 1)\n",
      "Block index: (2, 3, 1)\n",
      "Block index: (2, 3, 1)\n",
      "Block index: (2, 3, 1)\n",
      "Block index: (2, 2, 1)\n",
      "Block index: (2, 2, 1)\n",
      "Block index: (2, 2, 1)\n",
      "Block index: (2, 2, 1)\n",
      "Block index: (2, 2, 1)\n",
      "Block index: (2, 2, 1)\n",
      "Block index: (1, 3, 1)\n",
      "Block index: (1, 3, 1)\n",
      "Block index: (1, 3, 1)\n",
      "Block index: (1, 3, 1)\n",
      "Block index: (1, 3, 1)\n",
      "Block index: (1, 3, 1)\n",
      "Block index: (1, 2, 2)\n",
      "Block index: (1, 2, 2)\n",
      "Block index: (1, 2, 2)\n",
      "Block index: (1, 2, 2)\n",
      "Block index: (1, 2, 2)\n",
      "Block index: (1, 2, 2)\n",
      "Block index: (2, 1, 2)\n",
      "Block index: (2, 1, 2)\n",
      "Block index: (2, 1, 2)\n",
      "Block index: (2, 1, 2)\n",
      "Block index: (2, 1, 2)\n",
      "Block index: (2, 1, 2)\n",
      "Block index: (2, 1, 1)\n",
      "Block index: (2, 1, 1)\n",
      "Block index: (2, 1, 1)\n",
      "Block index: (2, 1, 1)\n",
      "Block index: (2, 1, 1)\n",
      "Block index: (2, 1, 1)\n",
      "Block index: (1, 2, 1)\n",
      "Block index: (1, 2, 1)\n",
      "Block index: (1, 2, 1)\n",
      "Block index: (1, 2, 1)\n",
      "Block index: (1, 2, 1)\n",
      "Block index: (1, 2, 1)\n"
     ]
    }
   ],
   "source": [
    "function hello_world()\n",
    "    @cuprintf(\"Thread index: (%ld, %ld, %ld)\\n\", threadIdx().x, threadIdx().y, threadIdx().z)\n",
    "    @cuprintf(\"Block index: (%ld, %ld, %ld)\\n\", blockIdx().x, blockIdx().y, blockIdx().z)\n",
    "    return\n",
    "end\n",
    "\n",
    "@cuda blocks=(2, 3, 2) threads=(1, 2, 3) hello_world()"
   ]
  },
  {
   "cell_type": "markdown",
   "metadata": {},
   "source": [
    "## Obligatory vector add example"
   ]
  },
  {
   "cell_type": "code",
   "execution_count": 36,
   "metadata": {},
   "outputs": [
    {
     "data": {
      "text/plain": [
       "vadd (generic function with 1 method)"
      ]
     },
     "execution_count": 36,
     "metadata": {},
     "output_type": "execute_result"
    }
   ],
   "source": [
    "function vadd_cpu(a, b, c)\n",
    "    for i in eachindex(a)\n",
    "        c[i] = a[i] + b[i]\n",
    "    end\n",
    "end\n",
    "\n",
    "function vadd(a, b, c)\n",
    "    i = blockIdx().x\n",
    "    c[i] = a[i] + b[i]\n",
    "    return\n",
    "end"
   ]
  },
  {
   "cell_type": "code",
   "execution_count": 3,
   "metadata": {},
   "outputs": [],
   "source": [
    "N = 100_000_000\n",
    "a = collect(1:N); b = collect(1:N); c = collect(1:N);\n",
    "dev_a = CuArray(a) ; dev_b = CuArray(b) ; dev_c = similar(dev_a);"
   ]
  },
  {
   "cell_type": "code",
   "execution_count": 4,
   "metadata": {},
   "outputs": [
    {
     "name": "stdout",
     "output_type": "stream",
     "text": [
      "  218.193 ms (0 allocations: 0 bytes)\n"
     ]
    }
   ],
   "source": [
    "@btime vadd_cpu($a, $b, $c)"
   ]
  },
  {
   "cell_type": "code",
   "execution_count": 5,
   "metadata": {},
   "outputs": [
    {
     "name": "stdout",
     "output_type": "stream",
     "text": [
      "  12.609 μs (64 allocations: 2.08 KiB)\n"
     ]
    }
   ],
   "source": [
    "@btime @cuda blocks=N vadd(dev_a, dev_b, dev_c)"
   ]
  },
  {
   "cell_type": "markdown",
   "metadata": {},
   "source": [
    "## Cooler Julia Set example"
   ]
  },
  {
   "cell_type": "code",
   "execution_count": 37,
   "metadata": {},
   "outputs": [
    {
     "data": {
      "text/plain": [
       "cpu_julia (generic function with 1 method)"
      ]
     },
     "execution_count": 37,
     "metadata": {},
     "output_type": "execute_result"
    }
   ],
   "source": [
    "function julia(x, y)\n",
    "    z = complex(x, y)\n",
    "    c = complex(-0.8, 0.156)\n",
    "    \n",
    "    for i in 1:100\n",
    "        z = z^2 + c\n",
    "        if norm(z) > 100\n",
    "            return 0\n",
    "        end\n",
    "    end\n",
    "    return 1\n",
    "end\n",
    "\n",
    "function gpu_julia(buffer)\n",
    "    x = blockIdx().x\n",
    "    y = blockIdx().y\n",
    "    _, w, h = size(buffer)\n",
    "    \n",
    "    result = julia(3(x - w/2) / w, 3(y - h/2) / h)\n",
    "    \n",
    "    buffer[1, x, y] = 0\n",
    "    buffer[2, x, y] = 0\n",
    "    buffer[3, x, y] = result\n",
    "    return\n",
    "end\n",
    "\n",
    "function cpu_julia(buffer)\n",
    "    _, w, h = size(buffer)\n",
    "    for x in 1:size(buffer)[2], y in 1:size(buffer)[3]\n",
    "        result = julia(3(x - w/2) / w, 3(y - h/2) / h)\n",
    "        \n",
    "        \n",
    "        buffer[1, x, y] = result\n",
    "        buffer[2, x, y] = 0\n",
    "        buffer[3, x, y] = 0\n",
    "    end\n",
    "end"
   ]
  },
  {
   "cell_type": "code",
   "execution_count": 38,
   "metadata": {},
   "outputs": [],
   "source": [
    "x = zeros(3, 1000, 1000);\n",
    "dx = CuArray(x);"
   ]
  },
  {
   "cell_type": "code",
   "execution_count": 8,
   "metadata": {},
   "outputs": [
    {
     "name": "stdout",
     "output_type": "stream",
     "text": [
      "  102.140 ms (0 allocations: 0 bytes)\n"
     ]
    }
   ],
   "source": [
    "@btime cpu_julia(x)"
   ]
  },
  {
   "cell_type": "code",
   "execution_count": 9,
   "metadata": {},
   "outputs": [
    {
     "data": {
      "image/png": "[encoded data removed]",
      "text/plain": [
       "1000×1000 reshape(reinterpret(RGB{Float64}, ::Array{Float64,3}), 1000, 1000) with eltype RGB{Float64}:\n",
       " RGB{Float64}(0.0,0.0,0.0)  …  RGB{Float64}(0.0,0.0,0.0)\n",
       " RGB{Float64}(0.0,0.0,0.0)     RGB{Float64}(0.0,0.0,0.0)\n",
       " RGB{Float64}(0.0,0.0,0.0)     RGB{Float64}(0.0,0.0,0.0)\n",
       " RGB{Float64}(0.0,0.0,0.0)     RGB{Float64}(0.0,0.0,0.0)\n",
       " RGB{Float64}(0.0,0.0,0.0)     RGB{Float64}(0.0,0.0,0.0)\n",
       " RGB{Float64}(0.0,0.0,0.0)  …  RGB{Float64}(0.0,0.0,0.0)\n",
       " RGB{Float64}(0.0,0.0,0.0)     RGB{Float64}(0.0,0.0,0.0)\n",
       " RGB{Float64}(0.0,0.0,0.0)     RGB{Float64}(0.0,0.0,0.0)\n",
       " RGB{Float64}(0.0,0.0,0.0)     RGB{Float64}(0.0,0.0,0.0)\n",
       " RGB{Float64}(0.0,0.0,0.0)     RGB{Float64}(0.0,0.0,0.0)\n",
       " RGB{Float64}(0.0,0.0,0.0)  …  RGB{Float64}(0.0,0.0,0.0)\n",
       " RGB{Float64}(0.0,0.0,0.0)     RGB{Float64}(0.0,0.0,0.0)\n",
       " RGB{Float64}(0.0,0.0,0.0)     RGB{Float64}(0.0,0.0,0.0)\n",
       " ⋮                          ⋱                           \n",
       " RGB{Float64}(0.0,0.0,0.0)     RGB{Float64}(0.0,0.0,0.0)\n",
       " RGB{Float64}(0.0,0.0,0.0)     RGB{Float64}(0.0,0.0,0.0)\n",
       " RGB{Float64}(0.0,0.0,0.0)  …  RGB{Float64}(0.0,0.0,0.0)\n",
       " RGB{Float64}(0.0,0.0,0.0)     RGB{Float64}(0.0,0.0,0.0)\n",
       " RGB{Float64}(0.0,0.0,0.0)     RGB{Float64}(0.0,0.0,0.0)\n",
       " RGB{Float64}(0.0,0.0,0.0)     RGB{Float64}(0.0,0.0,0.0)\n",
       " RGB{Float64}(0.0,0.0,0.0)     RGB{Float64}(0.0,0.0,0.0)\n",
       " RGB{Float64}(0.0,0.0,0.0)  …  RGB{Float64}(0.0,0.0,0.0)\n",
       " RGB{Float64}(0.0,0.0,0.0)     RGB{Float64}(0.0,0.0,0.0)\n",
       " RGB{Float64}(0.0,0.0,0.0)     RGB{Float64}(0.0,0.0,0.0)\n",
       " RGB{Float64}(0.0,0.0,0.0)     RGB{Float64}(0.0,0.0,0.0)\n",
       " RGB{Float64}(0.0,0.0,0.0)     RGB{Float64}(0.0,0.0,0.0)"
      ]
     },
     "execution_count": 9,
     "metadata": {},
     "output_type": "execute_result"
    }
   ],
   "source": [
    "colorview(RGB, x)"
   ]
  },
  {
   "cell_type": "code",
   "execution_count": 10,
   "metadata": {},
   "outputs": [
    {
     "name": "stderr",
     "output_type": "stream",
     "text": [
      "┌ Warning: calls to Base intrinsics might be GPU incompatible\n",
      "│   exception = (CUDAnative.MethodSubstitutionWarning(hypot(x::T, y::T) where T<:Number in Base.Math at math.jl:541, hypot(x::Float64, y::Float64) in CUDAnative at /home/max/.julia/packages/CUDAnative/nItlk/src/device/cuda/math.jl:291), Base.StackTraces.StackFrame[hypot at math.jl:541, gpu_julia at In[6]:15])\n",
      "└ @ CUDAnative /home/max/.julia/packages/CUDAnative/nItlk/src/compiler/irgen.jl:107\n"
     ]
    },
    {
     "name": "stdout",
     "output_type": "stream",
     "text": [
      "  25.302 μs (26 allocations: 864 bytes)\n"
     ]
    }
   ],
   "source": [
    "@btime @cuda blocks=(1000, 1000) gpu_julia(dx)"
   ]
  },
  {
   "cell_type": "code",
   "execution_count": 11,
   "metadata": {},
   "outputs": [
    {
     "data": {
      "image/png": "[encoded data removed]",
      "text/plain": [
       "1000×1000 reshape(reinterpret(RGB{Float64}, ::Array{Float64,3}), 1000, 1000) with eltype RGB{Float64}:\n",
       " RGB{Float64}(0.0,0.0,0.0)  …  RGB{Float64}(0.0,0.0,0.0)\n",
       " RGB{Float64}(0.0,0.0,0.0)     RGB{Float64}(0.0,0.0,0.0)\n",
       " RGB{Float64}(0.0,0.0,0.0)     RGB{Float64}(0.0,0.0,0.0)\n",
       " RGB{Float64}(0.0,0.0,0.0)     RGB{Float64}(0.0,0.0,0.0)\n",
       " RGB{Float64}(0.0,0.0,0.0)     RGB{Float64}(0.0,0.0,0.0)\n",
       " RGB{Float64}(0.0,0.0,0.0)  …  RGB{Float64}(0.0,0.0,0.0)\n",
       " RGB{Float64}(0.0,0.0,0.0)     RGB{Float64}(0.0,0.0,0.0)\n",
       " RGB{Float64}(0.0,0.0,0.0)     RGB{Float64}(0.0,0.0,0.0)\n",
       " RGB{Float64}(0.0,0.0,0.0)     RGB{Float64}(0.0,0.0,0.0)\n",
       " RGB{Float64}(0.0,0.0,0.0)     RGB{Float64}(0.0,0.0,0.0)\n",
       " RGB{Float64}(0.0,0.0,0.0)  …  RGB{Float64}(0.0,0.0,0.0)\n",
       " RGB{Float64}(0.0,0.0,0.0)     RGB{Float64}(0.0,0.0,0.0)\n",
       " RGB{Float64}(0.0,0.0,0.0)     RGB{Float64}(0.0,0.0,0.0)\n",
       " ⋮                          ⋱                           \n",
       " RGB{Float64}(0.0,0.0,0.0)     RGB{Float64}(0.0,0.0,0.0)\n",
       " RGB{Float64}(0.0,0.0,0.0)     RGB{Float64}(0.0,0.0,0.0)\n",
       " RGB{Float64}(0.0,0.0,0.0)  …  RGB{Float64}(0.0,0.0,0.0)\n",
       " RGB{Float64}(0.0,0.0,0.0)     RGB{Float64}(0.0,0.0,0.0)\n",
       " RGB{Float64}(0.0,0.0,0.0)     RGB{Float64}(0.0,0.0,0.0)\n",
       " RGB{Float64}(0.0,0.0,0.0)     RGB{Float64}(0.0,0.0,0.0)\n",
       " RGB{Float64}(0.0,0.0,0.0)     RGB{Float64}(0.0,0.0,0.0)\n",
       " RGB{Float64}(0.0,0.0,0.0)  …  RGB{Float64}(0.0,0.0,0.0)\n",
       " RGB{Float64}(0.0,0.0,0.0)     RGB{Float64}(0.0,0.0,0.0)\n",
       " RGB{Float64}(0.0,0.0,0.0)     RGB{Float64}(0.0,0.0,0.0)\n",
       " RGB{Float64}(0.0,0.0,0.0)     RGB{Float64}(0.0,0.0,0.0)\n",
       " RGB{Float64}(0.0,0.0,0.0)     RGB{Float64}(0.0,0.0,0.0)"
      ]
     },
     "execution_count": 11,
     "metadata": {},
     "output_type": "execute_result"
    }
   ],
   "source": [
    "colorview(RGB, Array(dx))"
   ]
  },
  {
   "cell_type": "markdown",
   "metadata": {},
   "source": [
    "## Warps\n"
   ]
  },
  {
   "cell_type": "code",
   "execution_count": 54,
   "metadata": {},
   "outputs": [
    {
     "name": "stdout",
     "output_type": "stream",
     "text": [
      "Warpsize: 32"
     ]
    }
   ],
   "source": [
    "function warpsz()\n",
    "    @cuprintf(\"Warpsize: %ld\", CUDAnative.warpsize())\n",
    "    return\n",
    "end\n",
    "\n",
    "@cuda warpsz()\n",
    "synchronize()"
   ]
  },
  {
   "cell_type": "code",
   "execution_count": 55,
   "metadata": {},
   "outputs": [
    {
     "data": {
      "text/plain": [
       "32"
      ]
     },
     "execution_count": 55,
     "metadata": {},
     "output_type": "execute_result"
    }
   ],
   "source": [
    "CUDAdrv.warpsize(CUDAdrv.device())"
   ]
  },
  {
   "cell_type": "markdown",
   "metadata": {},
   "source": [
    "## Synchronization"
   ]
  },
  {
   "cell_type": "code",
   "execution_count": 45,
   "metadata": {},
   "outputs": [
    {
     "data": {
      "text/plain": [
       "true"
      ]
     },
     "execution_count": 45,
     "metadata": {},
     "output_type": "execute_result"
    }
   ],
   "source": [
    "buf = CuArrays.zeros(100)\n",
    "function needs_sync(r)\n",
    "    x = threadIdx().x\n",
    "    r[x] = x\n",
    "    sync_threads()\n",
    "    r[101 - x] += r[x]\n",
    "    return\n",
    "end\n",
    "\n",
    "@cuda threads=100 foo(buf)\n",
    "synchronize()\n",
    "\n",
    "all(buf .== 101.0)"
   ]
  },
  {
   "cell_type": "code",
   "execution_count": 35,
   "metadata": {},
   "outputs": [
    {
     "data": {
      "text/plain": [
       "gpu_test (generic function with 1 method)"
      ]
     },
     "execution_count": 35,
     "metadata": {},
     "output_type": "execute_result"
    }
   ],
   "source": [
    "function gpu_test()\n",
    "    cache = CUDAnative.@cuStaticSharedMem(Float64, 100)\n",
    "    idx = threadIdx().x\n",
    "    cache[idx] = idx\n",
    "    i = 1\n",
    "    @cuprintf(\"%f\\n\", cache[idx+i])\n",
    "    return\n",
    "end"
   ]
  },
  {
   "cell_type": "code",
   "execution_count": 36,
   "metadata": {},
   "outputs": [
    {
     "name": "stdout",
     "output_type": "stream",
     "text": [
      "2.000000\n",
      "3.000000\n",
      "4.000000\n",
      "5.000000\n",
      "6.000000\n",
      "7.000000\n",
      "8.000000\n",
      "9.000000\n",
      "10.000000\n",
      "0.000000\n"
     ]
    }
   ],
   "source": [
    "@cuda threads=10 gpu_test()"
   ]
  },
  {
   "cell_type": "code",
   "execution_count": 41,
   "metadata": {},
   "outputs": [
    {
     "data": {
      "text/plain": [
       "gpu_dot (generic function with 1 method)"
      ]
     },
     "execution_count": 41,
     "metadata": {},
     "output_type": "execute_result"
    }
   ],
   "source": [
    "function gpu_dot(a, b)\n",
    "    cache = CUDAnative.@cuStaticSharedMem(Float64, 100)\n",
    "    step = blockDim().x * gridDim().x\n",
    "    tid = threadIdx().x\n",
    "    temp = 0\n",
    "    for i in tid:step:length(a)\n",
    "        temp += a[i] * b[i]\n",
    "    end\n",
    "    \n",
    "    cache[tid] = temp\n",
    "    \n",
    "    sync_threads()\n",
    "    \n",
    "    i = length(a) / 2\n",
    "    while i != 1\n",
    "        if tid < i\n",
    "            second = cache[tid + i]\n",
    "            cache[tid] = cache[tid]\n",
    "        end\n",
    "        \n",
    "        sync_threads()\n",
    "        \n",
    "        i /= 2\n",
    "    end\n",
    "    \n",
    "    return\n",
    "end"
   ]
  },
  {
   "cell_type": "code",
   "execution_count": 42,
   "metadata": {},
   "outputs": [
    {
     "ename": "CUDAnative.InvalidIRError",
     "evalue": "InvalidIRError: compiling gpu_dot(CuDeviceArray{Int64,1,CUDAnative.AS.Global}, CuDeviceArray{Int64,1,CUDAnative.AS.Global}) resulted in invalid LLVM IR\nReason: unsupported call through a literal pointer (call to jl_alloc_string)\nStacktrace:\n [1] _string_n at strings/string.jl:60\n [2] StringVector at iobuffer.jl:31\n [3] #IOBuffer#302 at iobuffer.jl:114\n [4] Type at none:0\n [5] print_to_string at strings/io.jl:120\n [6] string at strings/io.jl:155\n [7] to_index at indices.jl:266\n [8] to_index at indices.jl:247\n [9] to_indices at indices.jl:294\n [10] to_indices at indices.jl:291\n [11] getindex at abstractarray.jl:905\n [12] gpu_dot at In[41]:17\nReason: unsupported call through a literal pointer (call to jl_string_to_array)\nStacktrace:\n [1] unsafe_wrap at strings/string.jl:71\n [2] StringVector at iobuffer.jl:31\n [3] #IOBuffer#302 at iobuffer.jl:114\n [4] Type at none:0\n [5] print_to_string at strings/io.jl:120\n [6] string at strings/io.jl:155\n [7] to_index at indices.jl:266\n [8] to_index at indices.jl:247\n [9] to_indices at indices.jl:294\n [10] to_indices at indices.jl:291\n [11] getindex at abstractarray.jl:905\n [12] gpu_dot at In[41]:17\nReason: unsupported call through a literal pointer (call to )\nStacktrace:\n [1] fill! at array.jl:380\n [2] #IOBuffer#302 at iobuffer.jl:121\n [3] Type at none:0\n [4] print_to_string at strings/io.jl:120\n [5] string at strings/io.jl:155\n [6] to_index at indices.jl:266\n [7] to_index at indices.jl:247\n [8] to_indices at indices.jl:294\n [9] to_indices at indices.jl:291\n [10] getindex at abstractarray.jl:905\n [11] gpu_dot at In[41]:17\nReason: unsupported dynamic function invocation (call to print)\nStacktrace:\n [1] print_to_string at strings/io.jl:117\n [2] string at strings/io.jl:155\n [3] to_index at indices.jl:266\n [4] to_index at indices.jl:247\n [5] to_indices at indices.jl:294\n [6] to_indices at indices.jl:291\n [7] getindex at abstractarray.jl:905\n [8] gpu_dot at In[41]:17\nReason: unsupported dynamic function invocation (call to print)\nStacktrace:\n [1] print_to_string at strings/io.jl:122\n [2] string at strings/io.jl:155\n [3] to_index at indices.jl:266\n [4] to_index at indices.jl:247\n [5] to_indices at indices.jl:294\n [6] to_indices at indices.jl:291\n [7] getindex at abstractarray.jl:905\n [8] gpu_dot at In[41]:17\nReason: unsupported call through a literal pointer (call to jl_array_grow_end)\nStacktrace:\n [1] _growend! at array.jl:814\n [2] resize! at array.jl:1006\n [3] print_to_string at strings/io.jl:124\n [4] string at strings/io.jl:155\n [5] to_index at indices.jl:266\n [6] to_index at indices.jl:247\n [7] to_indices at indices.jl:294\n [8] to_indices at indices.jl:291\n [9] getindex at abstractarray.jl:905\n [10] gpu_dot at In[41]:17\nReason: unsupported call through a literal pointer (call to jl_array_del_end)\nStacktrace:\n [1] _deleteend! at array.jl:823\n [2] resize! at array.jl:1011\n [3] print_to_string at strings/io.jl:124\n [4] string at strings/io.jl:155\n [5] to_index at indices.jl:266\n [6] to_index at indices.jl:247\n [7] to_indices at indices.jl:294\n [8] to_indices at indices.jl:291\n [9] getindex at abstractarray.jl:905\n [10] gpu_dot at In[41]:17\nReason: unsupported call through a literal pointer (call to jl_array_to_string)\nStacktrace:\n [1] Type at strings/string.jl:39\n [2] print_to_string at strings/io.jl:124\n [3] string at strings/io.jl:155\n [4] to_index at indices.jl:266\n [5] to_index at indices.jl:247\n [6] to_indices at indices.jl:294\n [7] to_indices at indices.jl:291\n [8] getindex at abstractarray.jl:905\n [9] gpu_dot at In[41]:17",
     "output_type": "error",
     "traceback": [
      "InvalidIRError: compiling gpu_dot(CuDeviceArray{Int64,1,CUDAnative.AS.Global}, CuDeviceArray{Int64,1,CUDAnative.AS.Global}) resulted in invalid LLVM IR\nReason: unsupported call through a literal pointer (call to jl_alloc_string)\nStacktrace:\n [1] _string_n at strings/string.jl:60\n [2] StringVector at iobuffer.jl:31\n [3] #IOBuffer#302 at iobuffer.jl:114\n [4] Type at none:0\n [5] print_to_string at strings/io.jl:120\n [6] string at strings/io.jl:155\n [7] to_index at indices.jl:266\n [8] to_index at indices.jl:247\n [9] to_indices at indices.jl:294\n [10] to_indices at indices.jl:291\n [11] getindex at abstractarray.jl:905\n [12] gpu_dot at In[41]:17\nReason: unsupported call through a literal pointer (call to jl_string_to_array)\nStacktrace:\n [1] unsafe_wrap at strings/string.jl:71\n [2] StringVector at iobuffer.jl:31\n [3] #IOBuffer#302 at iobuffer.jl:114\n [4] Type at none:0\n [5] print_to_string at strings/io.jl:120\n [6] string at strings/io.jl:155\n [7] to_index at indices.jl:266\n [8] to_index at indices.jl:247\n [9] to_indices at indices.jl:294\n [10] to_indices at indices.jl:291\n [11] getindex at abstractarray.jl:905\n [12] gpu_dot at In[41]:17\nReason: unsupported call through a literal pointer (call to )\nStacktrace:\n [1] fill! at array.jl:380\n [2] #IOBuffer#302 at iobuffer.jl:121\n [3] Type at none:0\n [4] print_to_string at strings/io.jl:120\n [5] string at strings/io.jl:155\n [6] to_index at indices.jl:266\n [7] to_index at indices.jl:247\n [8] to_indices at indices.jl:294\n [9] to_indices at indices.jl:291\n [10] getindex at abstractarray.jl:905\n [11] gpu_dot at In[41]:17\nReason: unsupported dynamic function invocation (call to print)\nStacktrace:\n [1] print_to_string at strings/io.jl:117\n [2] string at strings/io.jl:155\n [3] to_index at indices.jl:266\n [4] to_index at indices.jl:247\n [5] to_indices at indices.jl:294\n [6] to_indices at indices.jl:291\n [7] getindex at abstractarray.jl:905\n [8] gpu_dot at In[41]:17\nReason: unsupported dynamic function invocation (call to print)\nStacktrace:\n [1] print_to_string at strings/io.jl:122\n [2] string at strings/io.jl:155\n [3] to_index at indices.jl:266\n [4] to_index at indices.jl:247\n [5] to_indices at indices.jl:294\n [6] to_indices at indices.jl:291\n [7] getindex at abstractarray.jl:905\n [8] gpu_dot at In[41]:17\nReason: unsupported call through a literal pointer (call to jl_array_grow_end)\nStacktrace:\n [1] _growend! at array.jl:814\n [2] resize! at array.jl:1006\n [3] print_to_string at strings/io.jl:124\n [4] string at strings/io.jl:155\n [5] to_index at indices.jl:266\n [6] to_index at indices.jl:247\n [7] to_indices at indices.jl:294\n [8] to_indices at indices.jl:291\n [9] getindex at abstractarray.jl:905\n [10] gpu_dot at In[41]:17\nReason: unsupported call through a literal pointer (call to jl_array_del_end)\nStacktrace:\n [1] _deleteend! at array.jl:823\n [2] resize! at array.jl:1011\n [3] print_to_string at strings/io.jl:124\n [4] string at strings/io.jl:155\n [5] to_index at indices.jl:266\n [6] to_index at indices.jl:247\n [7] to_indices at indices.jl:294\n [8] to_indices at indices.jl:291\n [9] getindex at abstractarray.jl:905\n [10] gpu_dot at In[41]:17\nReason: unsupported call through a literal pointer (call to jl_array_to_string)\nStacktrace:\n [1] Type at strings/string.jl:39\n [2] print_to_string at strings/io.jl:124\n [3] string at strings/io.jl:155\n [4] to_index at indices.jl:266\n [5] to_index at indices.jl:247\n [6] to_indices at indices.jl:294\n [7] to_indices at indices.jl:291\n [8] getindex at abstractarray.jl:905\n [9] gpu_dot at In[41]:17",
      "",
      "Stacktrace:",
      " [1] check_ir(::CUDAnative.CompilerJob, ::LLVM.Module) at /home/max/.julia/packages/CUDAnative/nItlk/src/compiler/validation.jl:114",
      " [2] macro expansion at /home/max/.julia/packages/TimerOutputs/7zSea/src/TimerOutput.jl:216 [inlined]",
      " [3] #codegen#121(::Bool, ::Bool, ::Bool, ::Bool, ::Bool, ::Function, ::Symbol, ::CUDAnative.CompilerJob) at /home/max/.julia/packages/CUDAnative/nItlk/src/compiler/driver.jl:186",
      " [4] #codegen at /home/max/.julia/packages/CUDAnative/nItlk/src/compiler/driver.jl:0 [inlined]",
      " [5] #compile#120(::Bool, ::Bool, ::Bool, ::Bool, ::Bool, ::Function, ::Symbol, ::CUDAnative.CompilerJob) at /home/max/.julia/packages/CUDAnative/nItlk/src/compiler/driver.jl:47",
      " [6] #compile at ./none:0 [inlined]",
      " [7] #compile#119 at /home/max/.julia/packages/CUDAnative/nItlk/src/compiler/driver.jl:28 [inlined]",
      " [8] #compile at ./none:0 [inlined] (repeats 2 times)",
      " [9] macro expansion at /home/max/.julia/packages/CUDAnative/nItlk/src/execution.jl:388 [inlined]",
      " [10] #cufunction#161(::Nothing, ::Base.Iterators.Pairs{Union{},Union{},Tuple{},NamedTuple{(),Tuple{}}}, ::typeof(cufunction), ::typeof(gpu_dot), ::Type{Tuple{CuDeviceArray{Int64,1,CUDAnative.AS.Global},CuDeviceArray{Int64,1,CUDAnative.AS.Global}}}) at /home/max/.julia/packages/CUDAnative/nItlk/src/execution.jl:356",
      " [11] cufunction(::Function, ::Type) at /home/max/.julia/packages/CUDAnative/nItlk/src/execution.jl:356",
      " [12] top-level scope at /home/max/.julia/packages/CUDAnative/nItlk/src/execution.jl:174",
      " [13] top-level scope at gcutils.jl:87",
      " [14] top-level scope at /home/max/.julia/packages/CUDAnative/nItlk/src/execution.jl:171",
      " [15] top-level scope at In[42]:4"
     ]
    }
   ],
   "source": [
    "da = CuArray([1, 2, 3, 4])\n",
    "db = CuArray([1, 2, 3, 4])\n",
    "c = nothing\n",
    "\n",
    "@cuda blocks=4 threads=1 gpu_dot(da, db)"
   ]
  }
 ],
 "metadata": {
  "kernelspec": {
   "display_name": "Julia 1.0.3",
   "language": "julia",
   "name": "julia-1.0"
  },
  "language_info": {
   "file_extension": ".jl",
   "mimetype": "application/julia",
   "name": "julia",
   "version": "1.0.4"
  }
 },
 "nbformat": 4,
 "nbformat_minor": 2
}
